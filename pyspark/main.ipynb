{
 "cells": [
  {
   "cell_type": "code",
   "execution_count": 1,
   "id": "e8e30ed9",
   "metadata": {},
   "outputs": [
    {
     "name": "stderr",
     "output_type": "stream",
     "text": [
      "Generating player records: 100%|██████████| 100000/100000 [04:58<00:00, 335.04it/s]"
     ]
    },
    {
     "name": "stdout",
     "output_type": "stream",
     "text": [
      "Generated 100000 records in players.jsonl\n"
     ]
    },
    {
     "name": "stderr",
     "output_type": "stream",
     "text": [
      "\n"
     ]
    }
   ],
   "source": [
    "from faker import Faker\n",
    "import random\n",
    "from datetime import datetime\n",
    "from tqdm import tqdm\n",
    "\n",
    "fake = Faker()\n",
    "Faker.seed(42)\n",
    "\n",
    "# Constants\n",
    "GAME_NAME = \"Mythic Quest\"\n",
    "MEMBERSHIPS = [\"Free\", \"Silver\", \"Gold\", \"Platinum\"]\n",
    "DEVICES = [\"PC\", \"Xbox\", \"PlayStation\", \"Mobile\", \"Switch\"]\n",
    "ACHIEVEMENTS_POOL = [\n",
    "    \"First Blood\", \"Monster Slayer\", \"Treasure Hunter\", \"Dungeon Master\",\n",
    "    \"Speed Runner\", \"Unstoppable\", \"Champion of the Arena\", \"Lore Keeper\"\n",
    "]\n",
    "# Expanded heroes list\n",
    "HEROES = [\n",
    "    \"Artemis\", \"Zephyr\", \"Titan\", \"Morgana\", \"Aurora\", \"Vulcan\",\n",
    "    \"Nyx\", \"Ragnar\", \"Selene\", \"Orion\", \"Echo\", \"Fenrir\", \"Astra\", \"Draco\"\n",
    "]\n",
    "# For each hero, define a unique list of skins (varying counts)\n",
    "HERO_SKINS = {\n",
    "    \"Artemis\":    [\"Forest Huntress\", \"Shadow Stalker\", \"Celestial Archer\"],\n",
    "    \"Zephyr\":     [\"Stormcaller\", \"Zephyr Prime\"],\n",
    "    \"Titan\":      [\"Colossus\", \"Stoneheart\", \"Ironclad\", \"Earthshaker\"],\n",
    "    \"Morgana\":    [\"Nightshade\", \"Hex Weaver\", \"Soul Binder\"],\n",
    "    \"Aurora\":     [\"Frost Maiden\", \"Solar Flare\", \"Polar Queen\"],\n",
    "    \"Vulcan\":     [\"Forge Master\", \"Lava Sentinel\"],\n",
    "    \"Nyx\":        [\"Midnight Whisper\", \"Dreambreaker\", \"Shadowveil\"],\n",
    "    \"Ragnar\":     [\"Berserker\", \"Warlord\", \"Frostborn\", \"Thunderlord\", \"Ironforge\"],\n",
    "    \"Selene\":     [\"Moonlight Dancer\", \"Lunar Priestess\"],\n",
    "    \"Orion\":      [\"Star Hunter\", \"Galactic Ranger\", \"Void Stalker\"],\n",
    "    \"Echo\":       [\"Soundwave\", \"Resonance\", \"Pulse Knight\"],\n",
    "    \"Fenrir\":     [\"Bloodmoon\", \"Spirit Howl\", \"Feral King\", \"Glacial Fang\"],\n",
    "    \"Astra\":      [\"Cosmic Empress\", \"Nebula Sorceress\", \"Void Empress\"],\n",
    "    \"Draco\":      [\"Sky Terror\", \"Dragonheart\", \"Inferno Wing\", \"Stormscale\", \"Obsidian Drake\"]\n",
    "}\n",
    "CURRENCIES = [\"USD\", \"EUR\", \"MYR\", \"JPY\", \"INR\"]\n",
    "\n",
    "def generate_player():\n",
    "    player_id = fake.uuid4()\n",
    "    # Personal info\n",
    "    age = random.randint(13, 60)\n",
    "    birthday = fake.date_of_birth(minimum_age=age, maximum_age=age)\n",
    "    email = fake.email()\n",
    "    phone = fake.phone_number()\n",
    "    gender = random.choice([\"Male\", \"Female\", \"Other\"])\n",
    "    region = fake.state()\n",
    "    address = fake.address().replace(\"\\n\", \", \")\n",
    "\n",
    "    # Account times\n",
    "    reg_time = fake.date_time_between(start_date=\"-2y\", end_date=\"-1y\")\n",
    "    last_login = fake.date_time_between(start_date=reg_time, end_date=\"now\")\n",
    "\n",
    "    # Social & devices\n",
    "    friend_list = [fake.uuid4() for _ in range(random.randint(0, 20))]\n",
    "    device_list = random.sample(DEVICES, k=random.randint(1, 3))\n",
    "\n",
    "    # Economy & virtual currencies\n",
    "    purchases = [{\n",
    "        \"item_id\": fake.uuid4(),\n",
    "        \"item_name\": fake.word().capitalize(),\n",
    "        \"amount\": round(random.uniform(1, 300), 2),\n",
    "        \"currency\": random.choice(CURRENCIES),\n",
    "        \"purchased_at\": fake.date_time_between(start_date=reg_time, end_date=last_login).isoformat()\n",
    "    } for _ in range(random.randint(0, 8))]\n",
    "    wallet_balance = round(sum(p[\"amount\"] for p in purchases) * random.uniform(0.1, 2.0), 2)\n",
    "    in_game_gold = random.randint(0, 100000)\n",
    "    in_game_diamonds = random.randint(0, 5000)\n",
    "\n",
    "    # Game-specific stats\n",
    "    total_playtime_hours = round(random.uniform(1, 2000), 1)\n",
    "    game_level = random.randint(1, 100)\n",
    "    total_matches = random.randint(10, 5000)\n",
    "    wins = random.randint(0, total_matches)\n",
    "    win_rate = round(wins / total_matches * 100, 2)\n",
    "    total_kills = random.randint(0, total_matches * 20)\n",
    "    total_deaths = random.randint(0, total_matches * 20)\n",
    "\n",
    "    # Achievements unlocked\n",
    "    num_ach = random.randint(0, len(ACHIEVEMENTS_POOL))\n",
    "    achievements = random.sample(ACHIEVEMENTS_POOL, num_ach)\n",
    "    achievement_dates = {\n",
    "        ach: fake.date_time_between(start_date=reg_time, end_date=last_login).isoformat()\n",
    "        for ach in achievements\n",
    "    }\n",
    "\n",
    "    # Heroes & skins: pick 1–5 heroes, then for each pick a random # of skins\n",
    "    num_heroes = random.randint(1, 5)\n",
    "    picked_heroes = random.sample(HEROES, k=num_heroes)\n",
    "    skins = []\n",
    "    for h in picked_heroes:\n",
    "        # choose between 0 and all available skins for this hero\n",
    "        available = HERO_SKINS.get(h, [])\n",
    "        num_skins = random.randint(0, len(available))\n",
    "        skins.extend(random.sample(available, k=num_skins))\n",
    "\n",
    "    return {\n",
    "        \"player_id\": player_id,\n",
    "        \"username\": fake.user_name(),\n",
    "        \"email\": email,\n",
    "        \"phone_number\": phone,\n",
    "        \"gender\": gender,\n",
    "        \"age\": age,\n",
    "        \"birthday\": birthday.isoformat(),\n",
    "        \"region\": region,\n",
    "        \"address\": address,\n",
    "        \"registration_time\": reg_time.isoformat(),\n",
    "        \"last_login_time\": last_login.isoformat(),\n",
    "        \"membership_level\": random.choice(MEMBERSHIPS),\n",
    "        \"device_list\": device_list,\n",
    "        \"friend_list\": friend_list,\n",
    "        \"ip_address\": fake.ipv4(),\n",
    "        \"mac_address\": fake.mac_address(),\n",
    "        \"purchases\": purchases,\n",
    "        \"wallet_balance\": wallet_balance,\n",
    "        \"in_game_gold\": in_game_gold,\n",
    "        \"in_game_diamonds\": in_game_diamonds,\n",
    "        \"total_playtime_hours\": total_playtime_hours,\n",
    "        \"game_level\": game_level,\n",
    "        \"total_matches\": total_matches,\n",
    "        \"wins\": wins,\n",
    "        \"win_rate_percent\": win_rate,\n",
    "        \"total_kills\": total_kills,\n",
    "        \"total_deaths\": total_deaths,\n",
    "        \"achievements\": achievement_dates,\n",
    "        \"heroes\": picked_heroes,\n",
    "        \"skins\": skins\n",
    "    }\n",
    "\n",
    "def generate_large_dataset(n=100000, save_path=\"players.jsonl\"):\n",
    "    \"\"\"Generates `n` player records and writes them as NDJSON.\"\"\"\n",
    "    import json\n",
    "    with open(save_path, \"w\", encoding=\"utf-8\") as f:\n",
    "        for _ in tqdm(range(n), desc=\"Generating player records\"):\n",
    "            record = generate_player()\n",
    "            f.write(json.dumps(record) + \"\\n\")\n",
    "    print(f\"Generated {n} records in {save_path}\")\n",
    "\n",
    "if __name__ == \"__main__\":\n",
    "    generate_large_dataset(n=100000)\n"
   ]
  },
  {
   "cell_type": "code",
   "execution_count": 2,
   "id": "bf14c9e7",
   "metadata": {},
   "outputs": [
    {
     "name": "stdout",
     "output_type": "stream",
     "text": [
      "+--------------------+--------------------+---+----------+--------------------+--------------------+--------------------+----------+------+--------------------+----------------+------------+--------------+-------------------+-----------------+----------------+--------------------+--------------------+--------------------+--------------+-------------------+--------------------+------------+-----------+-------------+--------------------+-----------+--------------+----------------+----+\n",
      "|        achievements|             address|age|  birthday|         device_list|               email|         friend_list|game_level|gender|              heroes|in_game_diamonds|in_game_gold|    ip_address|    last_login_time|      mac_address|membership_level|        phone_number|           player_id|           purchases|        region|  registration_time|               skins|total_deaths|total_kills|total_matches|total_playtime_hours|   username|wallet_balance|win_rate_percent|wins|\n",
      "+--------------------+--------------------+---+----------+--------------------+--------------------+--------------------+----------+------+--------------------+----------------+------------+--------------+-------------------+-----------------+----------------+--------------------+--------------------+--------------------+--------------+-------------------+--------------------+------------+-----------+-------------+--------------------+-----------+--------------+----------------+----+\n",
      "|{2024-06-29T21:21...|26542 Susan Junct...| 36|1988-09-23|      [Xbox, Switch]|jeffreydoyle@exam...|[ec1b8ca1-f91e-4d...|        45|  Male|    [Morgana, Draco]|             235|       88645|  9.116.93.109|2025-03-11T16:43:17|98:18:38:4e:51:d8|            Free|001-581-896-0013x...|bdd640fb-0667-4ad...|[{200.18, USD, ce...|          Iowa|2024-03-19T20:25:16|[Soul Binder, Hex...|       17552|       4202|         2566|              1463.1|       icox|        738.03|           16.41| 421|\n",
      "|{2024-05-16T04:59...|PSC 4893, Box 252...| 53|1971-12-07|              [Xbox]| tasha01@example.net|[edd96831-1ca3-4c...|        46|  Male|[Echo, Nyx, Artemis]|            4195|       49415| 163.11.235.69|2024-10-06T20:06:10|68:30:31:dc:b5:d8|            Free|     +1-645-414-6270|988c24c9-61b1-4d2...|                  []|North Carolina|2024-01-29T01:23:46|[Pulse Knight, So...|       36646|      44671|         4049|              1637.6|   esanchez|           0.0|           44.92|1819|\n",
      "|{2023-12-05T11:15...|80132 Tucker Fore...| 58|1967-02-25|[Mobile, PlayStat...|brownjessica@exam...|[747b6dba-c8fe-4c...|        59|  Male|[Ragnar, Draco, S...|            1141|       87004|112.162.200.39|2024-06-02T01:33:56|aa:29:d6:a1:85:68|          Silver|        933.587.2624|0dde29a6-baa4-471...|[{121.04, INR, 8e...|    California|2023-11-09T01:49:21|[Frostborn, Thund...|       33121|      23970|         3678|              1790.7|    kwilson|       1195.74|           92.47|3401|\n",
      "|{2024-06-22T01:52...|498 Elizabeth Pla...| 56|1968-11-09|[PC, PlayStation,...|emilyevans@exampl...|[afffcfd2-341e-44...|        35| Other|       [Echo, Draco]|            3895|       55572|66.122.118.194|2024-07-12T22:40:18|4e:f0:71:66:eb:b3|            Free|001-310-579-9118x...|43ff5011-3d1a-45d...|[{3.35, INR, 3c9a...|   Mississippi|2024-01-31T08:15:02|[Pulse Knight, Sk...|       13462|        587|          712|              1262.9| josephcobb|         33.29|             1.4|  10|\n",
      "|{2024-07-05T04:14...|USNV Johnson, FPO...| 54|1970-09-03|              [Xbox]|kellerraymond@exa...|[9b3080d5-6fb7-42...|        40|Female|[Vulcan, Echo, Se...|            3231|       35814|    58.35.28.5|2025-05-10T13:55:46|6a:a7:ce:97:41:62|            Free|        645-486-8501|3a43b2ba-df0f-46c...|[{54.1, MYR, 006e...|  Pennsylvania|2023-10-22T16:51:55|[Lava Sentinel, F...|        8994|      13649|          757|              1570.8|cortezkevin|        178.97|           19.95| 151|\n",
      "+--------------------+--------------------+---+----------+--------------------+--------------------+--------------------+----------+------+--------------------+----------------+------------+--------------+-------------------+-----------------+----------------+--------------------+--------------------+--------------------+--------------+-------------------+--------------------+------------+-----------+-------------+--------------------+-----------+--------------+----------------+----+\n",
      "only showing top 5 rows\n",
      "\n"
     ]
    }
   ],
   "source": [
    "import pyspark.sql.functions as F\n",
    "from pyspark.sql import SparkSession\n",
    "import os\n",
    "os.environ[\"HADOOP_USER_NAME\"] = \"haus\" # Replace with your username\n",
    "# Initialize Spark session\n",
    "spark = SparkSession.builder.appName(\"DataFrame Example\").getOrCreate()\n",
    "df = spark.read.json(\"data/players.jsonl\")\n",
    "df.show(5)"
   ]
  },
  {
   "cell_type": "code",
   "execution_count": 11,
   "id": "da1a9bf6",
   "metadata": {},
   "outputs": [
    {
     "name": "stdout",
     "output_type": "stream",
     "text": [
      "+---+-----+\n",
      "|age|count|\n",
      "+---+-----+\n",
      "| 13| 2072|\n",
      "| 14| 2172|\n",
      "| 15| 2092|\n",
      "| 16| 2059|\n",
      "| 17| 2169|\n",
      "| 18| 2071|\n",
      "| 19| 2017|\n",
      "| 20| 2108|\n",
      "| 21| 2053|\n",
      "| 22| 2091|\n",
      "+---+-----+\n",
      "only showing top 10 rows\n",
      "\n",
      "+----------+-----+\n",
      "|game_level|count|\n",
      "+----------+-----+\n",
      "|         1| 1015|\n",
      "|         2|  944|\n",
      "|         3|  988|\n",
      "|         4|  997|\n",
      "|         5|  985|\n",
      "|         6|  996|\n",
      "|         7|  963|\n",
      "|         8| 1011|\n",
      "|         9| 1024|\n",
      "|        10|  992|\n",
      "+----------+-----+\n",
      "only showing top 10 rows\n",
      "\n"
     ]
    }
   ],
   "source": [
    "df.groupby('age').count().orderBy('age').show(10)\n",
    "df.groupby('game_level').count().orderBy('game_level').show(10)"
   ]
  },
  {
   "cell_type": "code",
   "execution_count": 15,
   "id": "f4acf96a",
   "metadata": {},
   "outputs": [
    {
     "name": "stdout",
     "output_type": "stream",
     "text": [
      "+---+------------------+------------+------------+\n",
      "|age|      avg_playtime|max_playtime|min_playtime|\n",
      "+---+------------------+------------+------------+\n",
      "| 13| 985.4364864864866|      1998.5|         1.0|\n",
      "| 14| 996.6730202578268|      1999.6|         2.4|\n",
      "| 15| 1001.126481835564|      1999.3|         2.0|\n",
      "| 16| 978.9996114618746|      1999.6|         1.1|\n",
      "| 17|  997.634854771784|      1999.5|         1.6|\n",
      "| 18|1004.9695316272336|      1999.1|         2.3|\n",
      "| 19| 984.8029251363408|      1999.8|         1.8|\n",
      "| 20| 989.4011859582541|      1999.8|         1.1|\n",
      "| 21| 1020.902435460302|      1997.3|         4.3|\n",
      "| 22|1008.4568627450975|      1999.8|         4.7|\n",
      "| 23|1011.5020833333332|      1997.9|         1.3|\n",
      "| 24| 992.8988697788697|      1999.5|         2.0|\n",
      "| 25| 990.6013935607882|      2000.0|         2.4|\n",
      "| 26|1004.8282608695653|      1999.6|         2.5|\n",
      "| 27| 999.7208373435997|      1999.4|         1.3|\n",
      "| 28| 980.7605633802821|      1998.4|         1.6|\n",
      "| 29|  983.321331997997|      1999.9|         1.4|\n",
      "| 30| 977.2136769078294|      1998.7|         1.2|\n",
      "| 31|1001.0444057682746|      1997.4|         1.3|\n",
      "| 32|1021.3024257425742|      1999.6|         3.7|\n",
      "+---+------------------+------------+------------+\n",
      "only showing top 20 rows\n",
      "\n"
     ]
    }
   ],
   "source": [
    "df.groupby('age').agg(\n",
    "    F.avg(\"total_playtime_hours\").alias(\"avg_playtime\"),\n",
    "    F.max(\"total_playtime_hours\").alias(\"max_playtime\"),\n",
    "    F.min(\"total_playtime_hours\").alias(\"min_playtime\")\n",
    ").orderBy('age').show()"
   ]
  },
  {
   "cell_type": "code",
   "execution_count": 18,
   "id": "a025e189",
   "metadata": {},
   "outputs": [
    {
     "name": "stdout",
     "output_type": "stream",
     "text": [
      "+------------------------------------+---------+\n",
      "|player_id                           |purchases|\n",
      "+------------------------------------+---------+\n",
      "|988c24c9-61b1-4d22-a280-1c4510435a10|[]       |\n",
      "|ff574e2b-4991-4b9b-abc2-026faf34cf65|[]       |\n",
      "|6a5e6920-bf5a-47e6-93a3-dd5a4b8c5bdc|[]       |\n",
      "|5dae1201-673b-48bd-838c-1dec5da39a73|[]       |\n",
      "|bd10f87c-6d0e-4597-900d-92a7ad409244|[]       |\n",
      "+------------------------------------+---------+\n",
      "only showing top 5 rows\n",
      "\n"
     ]
    }
   ],
   "source": [
    "df.select('player_id','purchases').filter(F.size('purchases') == 0).show(5, truncate=False)"
   ]
  }
 ],
 "metadata": {
  "kernelspec": {
   "display_name": "brainstack",
   "language": "python",
   "name": "python3"
  },
  "language_info": {
   "codemirror_mode": {
    "name": "ipython",
    "version": 3
   },
   "file_extension": ".py",
   "mimetype": "text/x-python",
   "name": "python",
   "nbconvert_exporter": "python",
   "pygments_lexer": "ipython3",
   "version": "3.10.3"
  }
 },
 "nbformat": 4,
 "nbformat_minor": 5
}
